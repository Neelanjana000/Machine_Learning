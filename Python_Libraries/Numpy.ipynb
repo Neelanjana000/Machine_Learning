{
  "nbformat": 4,
  "nbformat_minor": 0,
  "metadata": {
    "colab": {
      "provenance": [],
      "authorship_tag": "ABX9TyPNkV28a/wEbaWzTIi/8nZH",
      "include_colab_link": true
    },
    "kernelspec": {
      "name": "python3",
      "display_name": "Python 3"
    },
    "language_info": {
      "name": "python"
    }
  },
  "cells": [
    {
      "cell_type": "markdown",
      "metadata": {
        "id": "view-in-github",
        "colab_type": "text"
      },
      "source": [
        "<a href=\"https://colab.research.google.com/github/Neelanjana000/Machine_Learning/blob/main/Numpy.ipynb\" target=\"_parent\"><img src=\"https://colab.research.google.com/assets/colab-badge.svg\" alt=\"Open In Colab\"/></a>"
      ]
    },
    {
      "cell_type": "markdown",
      "source": [
        "#Numpy\n"
      ],
      "metadata": {
        "id": "9Ga964FKfY0x"
      }
    },
    {
      "cell_type": "markdown",
      "source": [
        "###Less Memory"
      ],
      "metadata": {
        "id": "-Gy3vrAMfzBk"
      }
    },
    {
      "cell_type": "code",
      "source": [
        "import numpy as np\n",
        "import time\n",
        "import sys\n",
        "\n",
        "l=range(1000)\n",
        "print(sys.getsizeof(5)*len(l))\n",
        "\n",
        "array=np.arange(1000)\n",
        "print(array.size*array.itemsize)"
      ],
      "metadata": {
        "colab": {
          "base_uri": "https://localhost:8080/"
        },
        "id": "b6SBiKx4f5Ai",
        "outputId": "291c8682-269e-4c92-fb49-fc229ec6b06d"
      },
      "execution_count": null,
      "outputs": [
        {
          "output_type": "stream",
          "name": "stdout",
          "text": [
            "28000\n",
            "8000\n"
          ]
        }
      ]
    },
    {
      "cell_type": "markdown",
      "source": [
        "###Fast and Convinient"
      ],
      "metadata": {
        "id": "eHaEAYG_gDbe"
      }
    },
    {
      "cell_type": "code",
      "source": [
        "Size =100000000\n",
        "l1=range(Size)\n",
        "l2=range(Size)\n",
        "\n",
        "a1=np.arange(Size)\n",
        "a2=np.arange(Size)\n",
        "\n",
        "#Python list\n",
        "start = time.time()\n",
        "result = [(x+y) for x,y in zip(l1,l2)]\n",
        "print(\"python list took: \",(time.time()-start)*1000)\n",
        "#Numpy array\n",
        "start = time.time()\n",
        "result = a1+a2\n",
        "print(\"numpy took: \",(time.time()-start)*1000)"
      ],
      "metadata": {
        "colab": {
          "base_uri": "https://localhost:8080/"
        },
        "id": "BPbgWO9AgTwu",
        "outputId": "13eaf9a5-08fa-42be-a2db-b11fd71a9796"
      },
      "execution_count": null,
      "outputs": [
        {
          "output_type": "stream",
          "name": "stdout",
          "text": [
            "python list took:  14092.2269821167\n",
            "numpy took:  485.34607887268066\n"
          ]
        }
      ]
    },
    {
      "cell_type": "markdown",
      "source": [
        "##Basic Array Operations"
      ],
      "metadata": {
        "id": "dmU2VlnJiDnU"
      }
    },
    {
      "cell_type": "code",
      "source": [
        "import numpy as np\n",
        "a=np.array([5,6,9])\n",
        "print(a[0])\n",
        "print(a[1])\n",
        "a = np.array([[1,2],[3,4],[5,6]])\n",
        "print(a.ndim)\n",
        "print(a.itemsize)\n",
        "print(a.dtype)\n",
        "print(a.size)\n",
        "print(a.shape)\n"
      ],
      "metadata": {
        "colab": {
          "base_uri": "https://localhost:8080/"
        },
        "id": "xdH5JSwtiVh0",
        "outputId": "771e44a9-ee1d-4a4d-f672-c90b478862c1"
      },
      "execution_count": null,
      "outputs": [
        {
          "output_type": "stream",
          "name": "stdout",
          "text": [
            "5\n",
            "6\n",
            "2\n",
            "8\n",
            "int64\n",
            "6\n",
            "(3, 2)\n"
          ]
        }
      ]
    },
    {
      "cell_type": "code",
      "source": [
        "a=np.array([[1,2],[3,4],[5,6]],dtype=np.float64)\n",
        "print(a.itemsize)\n",
        "a=np.array([[1,2],[3,4],[5,6]],dtype=complex)\n",
        "print(a)"
      ],
      "metadata": {
        "colab": {
          "base_uri": "https://localhost:8080/"
        },
        "id": "JcpMKG-FjXZi",
        "outputId": "8247fcd8-c441-4381-d33b-b4dad69d9440"
      },
      "execution_count": null,
      "outputs": [
        {
          "output_type": "stream",
          "name": "stdout",
          "text": [
            "8\n",
            "[[1.+0.j 2.+0.j]\n",
            " [3.+0.j 4.+0.j]\n",
            " [5.+0.j 6.+0.j]]\n"
          ]
        }
      ]
    },
    {
      "cell_type": "code",
      "source": [
        "a=np.zeros((3,4))\n",
        "print(a)\n",
        "a=np.ones((3,4))\n",
        "print(a)\n",
        "l=range(5)\n",
        "print(l)\n",
        "a=np.arange(1,5)\n",
        "print(a)\n",
        "a=np.arange(1,5,2)\n",
        "print(a)\n",
        "a=np.linspace(1,5,10)\n",
        "print(a)"
      ],
      "metadata": {
        "colab": {
          "base_uri": "https://localhost:8080/"
        },
        "id": "Cyzojsy3kVb-",
        "outputId": "e54f2812-5bf3-4bfa-f37b-cf8de6053712"
      },
      "execution_count": null,
      "outputs": [
        {
          "output_type": "stream",
          "name": "stdout",
          "text": [
            "[[0. 0. 0. 0.]\n",
            " [0. 0. 0. 0.]\n",
            " [0. 0. 0. 0.]]\n",
            "[[1. 1. 1. 1.]\n",
            " [1. 1. 1. 1.]\n",
            " [1. 1. 1. 1.]]\n",
            "range(0, 5)\n",
            "[1 2 3 4]\n",
            "[1 3]\n",
            "[1.         1.44444444 1.88888889 2.33333333 2.77777778 3.22222222\n",
            " 3.66666667 4.11111111 4.55555556 5.        ]\n"
          ]
        }
      ]
    },
    {
      "cell_type": "code",
      "source": [
        "a = np.array([[1,2],[3,4],[5,6]])\n",
        "print(a.shape)\n",
        "a=a.reshape(2,3)\n",
        "print(a)\n",
        "a=a.ravel()\n",
        "print(a)"
      ],
      "metadata": {
        "colab": {
          "base_uri": "https://localhost:8080/"
        },
        "id": "1RD3V3LulyuS",
        "outputId": "584bcb28-4d21-47c9-a8bd-394713368da1"
      },
      "execution_count": null,
      "outputs": [
        {
          "output_type": "stream",
          "name": "stdout",
          "text": [
            "(3, 2)\n",
            "[[1 2 3]\n",
            " [4 5 6]]\n",
            "[1 2 3 4 5 6]\n"
          ]
        }
      ]
    },
    {
      "cell_type": "code",
      "source": [
        "a=np.array([[1,2],[3,4],[5,6]])\n",
        "print(a)\n",
        "print(a.min())\n",
        "print(a.max())\n",
        "print(a.sum())\n",
        "print(a.sum(axis=0))\n",
        "print(a.sum(axis=1))\n",
        "print(np.sqrt(a))\n",
        "print(np.std(a))\n"
      ],
      "metadata": {
        "colab": {
          "base_uri": "https://localhost:8080/"
        },
        "id": "C4J51hJFnOvB",
        "outputId": "9e8a67c9-da56-42d8-c57f-c9fb77782924"
      },
      "execution_count": null,
      "outputs": [
        {
          "output_type": "stream",
          "name": "stdout",
          "text": [
            "[[1 2]\n",
            " [3 4]\n",
            " [5 6]]\n",
            "1\n",
            "6\n",
            "21\n",
            "[ 9 12]\n",
            "[ 3  7 11]\n",
            "[[1.         1.41421356]\n",
            " [1.73205081 2.        ]\n",
            " [2.23606798 2.44948974]]\n",
            "1.707825127659933\n"
          ]
        }
      ]
    },
    {
      "cell_type": "code",
      "source": [
        "a=np.array([[1,2],[3,4]])\n",
        "b=np.array([[5,6],[7,8]])\n",
        "print(a+b)\n",
        "print(a-b)\n",
        "print(a*b)\n",
        "print(a/b)\n",
        "print(a.dot(b))\n"
      ],
      "metadata": {
        "colab": {
          "base_uri": "https://localhost:8080/"
        },
        "id": "nMsxGI9Pnse2",
        "outputId": "b9e39fbc-62af-4b45-d0a9-dc554b2173c2"
      },
      "execution_count": null,
      "outputs": [
        {
          "output_type": "stream",
          "name": "stdout",
          "text": [
            "[[ 6  8]\n",
            " [10 12]]\n",
            "[[-4 -4]\n",
            " [-4 -4]]\n",
            "[[ 5 12]\n",
            " [21 32]]\n",
            "[[0.2        0.33333333]\n",
            " [0.42857143 0.5       ]]\n",
            "[[19 22]\n",
            " [43 50]]\n"
          ]
        }
      ]
    },
    {
      "cell_type": "markdown",
      "source": [
        "##Slicing /Stacking and Indexing with Boolean Array"
      ],
      "metadata": {
        "id": "DYq4zD1IdLON"
      }
    },
    {
      "cell_type": "code",
      "source": [
        "import numpy as np\n",
        "n =[6,7,8]\n",
        "print(n[0:2])\n",
        "print(n[-1])\n",
        "a=np.array([6,7,8])\n",
        "print(a[0:2])\n",
        "print(a[-1])"
      ],
      "metadata": {
        "colab": {
          "base_uri": "https://localhost:8080/"
        },
        "id": "GZ8hlH_1d6Zy",
        "outputId": "0b6d8b6c-66b2-4ea8-bf54-2a4a5d60cc8d"
      },
      "execution_count": null,
      "outputs": [
        {
          "output_type": "stream",
          "name": "stdout",
          "text": [
            "[6, 7]\n",
            "8\n",
            "[6 7]\n",
            "8\n"
          ]
        }
      ]
    },
    {
      "cell_type": "code",
      "source": [
        "a =np.array([[6,7,8],[1,2,3],[9,3,2]])\n",
        "print(a)\n",
        "print(a[1,2])\n",
        "print(a[0:2,2])\n",
        "print(a[-1])\n",
        "print(a[-1,0:2])\n",
        "print(a[ : ,1:3])\n",
        "\n",
        "\n"
      ],
      "metadata": {
        "colab": {
          "base_uri": "https://localhost:8080/"
        },
        "id": "RP1DC-E3fU-S",
        "outputId": "5ce0428e-0be4-4ea5-fc77-83f0a23ccad0"
      },
      "execution_count": null,
      "outputs": [
        {
          "output_type": "stream",
          "name": "stdout",
          "text": [
            "[[6 7 8]\n",
            " [1 2 3]\n",
            " [9 3 2]]\n",
            "3\n",
            "[8 3]\n",
            "[9 3 2]\n",
            "[9 3]\n",
            "[[7 8]\n",
            " [2 3]\n",
            " [3 2]]\n"
          ]
        }
      ]
    },
    {
      "cell_type": "code",
      "source": [
        "a =np.array([[6,7,8],[1,2,3],[9,3,2]])\n",
        "for row in a:\n",
        "  print(row)\n",
        "for cell in a.flat:\n",
        "  print(cell)"
      ],
      "metadata": {
        "colab": {
          "base_uri": "https://localhost:8080/"
        },
        "id": "AoCudeIQg1mh",
        "outputId": "7f1fa507-1637-4354-ed1d-83939aa3208a"
      },
      "execution_count": null,
      "outputs": [
        {
          "output_type": "stream",
          "name": "stdout",
          "text": [
            "[6 7 8]\n",
            "[1 2 3]\n",
            "[9 3 2]\n",
            "6\n",
            "7\n",
            "8\n",
            "1\n",
            "2\n",
            "3\n",
            "9\n",
            "3\n",
            "2\n"
          ]
        }
      ]
    },
    {
      "cell_type": "code",
      "source": [
        "a=np.arange(6).reshape(3,2)\n",
        "b=np.arange(6,12).reshape(3,2)\n",
        "print(a)\n",
        "print(b)\n",
        "print(np.vstack((a,b)))\n",
        "print(np.hstack((a,b)))"
      ],
      "metadata": {
        "colab": {
          "base_uri": "https://localhost:8080/"
        },
        "id": "6VMk3EV6hLt2",
        "outputId": "916a4bdf-7e22-4e40-fe36-8d5a3e8ca204"
      },
      "execution_count": null,
      "outputs": [
        {
          "output_type": "stream",
          "name": "stdout",
          "text": [
            "[[0 1]\n",
            " [2 3]\n",
            " [4 5]]\n",
            "[[ 6  7]\n",
            " [ 8  9]\n",
            " [10 11]]\n",
            "[[ 0  1]\n",
            " [ 2  3]\n",
            " [ 4  5]\n",
            " [ 6  7]\n",
            " [ 8  9]\n",
            " [10 11]]\n",
            "[[ 0  1  6  7]\n",
            " [ 2  3  8  9]\n",
            " [ 4  5 10 11]]\n"
          ]
        }
      ]
    },
    {
      "cell_type": "code",
      "source": [
        "a=np.arange(30).reshape(2,15)\n",
        "print(a)\n",
        "result=(np.hsplit(a,3))\n",
        "print(result[0])\n",
        "print(result[1])\n",
        "print(result[2])\n",
        "result=(np.vsplit(a,2))\n",
        "print(result[0])\n",
        "print(result[1])"
      ],
      "metadata": {
        "colab": {
          "base_uri": "https://localhost:8080/"
        },
        "id": "8sXxOAQvhkYB",
        "outputId": "f374bc9c-6cb3-443b-a3f6-5e732e50854a"
      },
      "execution_count": null,
      "outputs": [
        {
          "output_type": "stream",
          "name": "stdout",
          "text": [
            "[[ 0  1  2  3  4  5  6  7  8  9 10 11 12 13 14]\n",
            " [15 16 17 18 19 20 21 22 23 24 25 26 27 28 29]]\n",
            "[[ 0  1  2  3  4]\n",
            " [15 16 17 18 19]]\n",
            "[[ 5  6  7  8  9]\n",
            " [20 21 22 23 24]]\n",
            "[[10 11 12 13 14]\n",
            " [25 26 27 28 29]]\n",
            "[[ 0  1  2  3  4  5  6  7  8  9 10 11 12 13 14]]\n",
            "[[15 16 17 18 19 20 21 22 23 24 25 26 27 28 29]]\n"
          ]
        }
      ]
    },
    {
      "cell_type": "code",
      "source": [
        "a=np.arange(12).reshape(3,4)\n",
        "print(a)\n",
        "b=a>4\n",
        "print(b)\n",
        "print(a[b])\n",
        "a[b]=-1\n",
        "print(a)"
      ],
      "metadata": {
        "colab": {
          "base_uri": "https://localhost:8080/"
        },
        "id": "7K3nYSWCieN-",
        "outputId": "b02d67df-58f0-4b36-f4ec-3451bddffbb3"
      },
      "execution_count": null,
      "outputs": [
        {
          "output_type": "stream",
          "name": "stdout",
          "text": [
            "[[ 0  1  2  3]\n",
            " [ 4  5  6  7]\n",
            " [ 8  9 10 11]]\n",
            "[[False False False False]\n",
            " [False  True  True  True]\n",
            " [ True  True  True  True]]\n",
            "[ 5  6  7  8  9 10 11]\n",
            "[[ 0  1  2  3]\n",
            " [ 4 -1 -1 -1]\n",
            " [-1 -1 -1 -1]]\n"
          ]
        }
      ]
    },
    {
      "cell_type": "markdown",
      "source": [
        "##**Iterate** Numpy Array using nditer"
      ],
      "metadata": {
        "id": "L1rWEyz-jSWZ"
      }
    },
    {
      "cell_type": "code",
      "source": [
        "a=np.arange(12).reshape(3,4)\n",
        "print(a)\n",
        "for row in a:\n",
        "  for cell in row:\n",
        "    print(cell)\n",
        "for cell in a.flatten():\n",
        "  print(cell)"
      ],
      "metadata": {
        "colab": {
          "base_uri": "https://localhost:8080/"
        },
        "id": "dquK_rRijq2L",
        "outputId": "fe5d23dd-37f3-45f1-9d3c-341fdb481e7d"
      },
      "execution_count": null,
      "outputs": [
        {
          "output_type": "stream",
          "name": "stdout",
          "text": [
            "[[ 0  1  2  3]\n",
            " [ 4  5  6  7]\n",
            " [ 8  9 10 11]]\n",
            "0\n",
            "1\n",
            "2\n",
            "3\n",
            "4\n",
            "5\n",
            "6\n",
            "7\n",
            "8\n",
            "9\n",
            "10\n",
            "11\n",
            "0\n",
            "1\n",
            "2\n",
            "3\n",
            "4\n",
            "5\n",
            "6\n",
            "7\n",
            "8\n",
            "9\n",
            "10\n",
            "11\n"
          ]
        }
      ]
    },
    {
      "cell_type": "code",
      "source": [
        "for x in np.nditer(a,order='C'):\n",
        "  print(x)\n"
      ],
      "metadata": {
        "colab": {
          "base_uri": "https://localhost:8080/"
        },
        "id": "axUeR4f7kFZf",
        "outputId": "1a99da62-9b95-4d7a-dae9-e7d2de2dfe3a"
      },
      "execution_count": null,
      "outputs": [
        {
          "output_type": "stream",
          "name": "stdout",
          "text": [
            "0\n",
            "1\n",
            "2\n",
            "3\n",
            "4\n",
            "5\n",
            "6\n",
            "7\n",
            "8\n",
            "9\n",
            "10\n",
            "11\n"
          ]
        }
      ]
    },
    {
      "cell_type": "code",
      "source": [
        "for x in np.nditer(a,order='F'):\n",
        "  print(x)\n",
        "for x in np.nditer(a,order='F',flags=['external_loop']):\n",
        "  print(x)"
      ],
      "metadata": {
        "colab": {
          "base_uri": "https://localhost:8080/"
        },
        "id": "ZqxdWKh2kxgu",
        "outputId": "dbbb2f6a-7753-4d14-b64b-14b0b388f364"
      },
      "execution_count": null,
      "outputs": [
        {
          "output_type": "stream",
          "name": "stdout",
          "text": [
            "0\n",
            "4\n",
            "8\n",
            "1\n",
            "5\n",
            "9\n",
            "2\n",
            "6\n",
            "10\n",
            "3\n",
            "7\n",
            "11\n",
            "[0 4 8]\n",
            "[1 5 9]\n",
            "[ 2  6 10]\n",
            "[ 3  7 11]\n"
          ]
        }
      ]
    },
    {
      "cell_type": "code",
      "source": [
        "for x in np.nditer(a,op_flags=['readwrite']):\n",
        "  x[...]=x*x\n",
        "print(a)"
      ],
      "metadata": {
        "colab": {
          "base_uri": "https://localhost:8080/"
        },
        "id": "dEhXlzDak9oh",
        "outputId": "c2d2d53d-bf47-4c6b-c138-375642701b41"
      },
      "execution_count": null,
      "outputs": [
        {
          "output_type": "stream",
          "name": "stdout",
          "text": [
            "[[  0   1   4   9]\n",
            " [ 16  25  36  49]\n",
            " [ 64  81 100 121]]\n"
          ]
        }
      ]
    },
    {
      "cell_type": "code",
      "source": [
        "b=np.arange(3,15,4).reshape(3,1)\n",
        "print(b)\n",
        "for x,y in np.nditer([a,b]):\n",
        "  print(x,y)"
      ],
      "metadata": {
        "colab": {
          "base_uri": "https://localhost:8080/"
        },
        "id": "KNc458hDlV3R",
        "outputId": "a9fef9e1-34d3-4711-da4c-20d4e57c8f67"
      },
      "execution_count": null,
      "outputs": [
        {
          "output_type": "stream",
          "name": "stdout",
          "text": [
            "[[ 3]\n",
            " [ 7]\n",
            " [11]]\n",
            "0 3\n",
            "1 3\n",
            "4 3\n",
            "9 3\n",
            "16 7\n",
            "25 7\n",
            "36 7\n",
            "49 7\n",
            "64 11\n",
            "81 11\n",
            "100 11\n",
            "121 11\n"
          ]
        }
      ]
    }
  ]
}
